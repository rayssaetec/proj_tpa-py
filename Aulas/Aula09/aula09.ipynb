{
 "cells": [
  {
   "cell_type": "markdown",
   "metadata": {},
   "source": [
    "# Introdução a Tabelas Hash"
   ]
  },
  {
   "cell_type": "markdown",
   "metadata": {},
   "source": [
    "As tabelas hash são estruturas de dados comum para localização de grandes quantidades de dados. Devido sua eficiência na sua busca, inserção e remoção de elementos utiliza a indexação dos dados como nos dicionários já vistos em aula."
   ]
  },
  {
   "cell_type": "markdown",
   "metadata": {},
   "source": [
    "    Aplicações:\n",
    "    \n",
    "    1 - Banco dados\n",
    "    2 - Cache de memória \n",
    "    3 - Compiladores \n",
    "    4 - Algoritmos de busca \n",
    "    5 - Big Data "
   ]
  },
  {
   "cell_type": "code",
   "execution_count": 56,
   "metadata": {},
   "outputs": [
    {
     "name": "stdout",
     "output_type": "stream",
     "text": [
      "Alice no País das Maravilhas\n",
      "None\n",
      "None\n"
     ]
    }
   ],
   "source": [
    "class HashTable:\n",
    "    #Construtor de tabela hasg\n",
    "    def __init__(self, size=10):\n",
    "        self.size = size;\n",
    "        #Cria uma lista com o comprimento de size\n",
    "        self.table = [[] for _ in range(self.size)]\n",
    "    \n",
    "    #Metodo que calcula o indice da tabela atráves da chave\n",
    "    def hash(self, key):\n",
    "        return hash(key) % self.size\n",
    "    \n",
    "    #Metodo de remove de velor atraves de sua chave\n",
    "    def insert(self, key, value):\n",
    "        index = self.hash(key)\n",
    "        for y in self.table[index]:\n",
    "            if y[0] == key:\n",
    "                y[1] = value\n",
    "                return\n",
    "        self.table[index].append([key, value])  \n",
    "\n",
    "    # Método de remove de valor através da sua chave \n",
    "    def remove(self, key):\n",
    "        index = self.hash(key)\n",
    "        for i, y in enumerate(self.table[index]):\n",
    "            if y[0] == key:\n",
    "                del self.table[index][i]\n",
    "                return True\n",
    "        return False\n",
    "\n",
    "    #Metódo de busca de valor atráves da sua chave\n",
    "    def get(self, key):\n",
    "        index = self.hash(key)\n",
    "        for y in self.table[index]:\n",
    "            if y[0] == key:\n",
    "                return y[1]\n",
    "            return None\n",
    "\n",
    "if __name__ == \"__main__\":\n",
    "    biblioteca = HashTable()\n",
    "    biblioteca.insert(\"A\",\"Alice no País das Maravilhas\")\n",
    "    biblioteca.insert(\"M\",\"Marcelino Pão e Vinho\")\n",
    "    biblioteca.insert(\"O\",\"O Código da Vinci\")\n",
    "\n",
    "    print(biblioteca.get(\"A\"))\n",
    "    print(biblioteca.get(\"B\"))\n",
    "\n",
    "    biblioteca.remove(\"A\")\n",
    "    print(biblioteca.get(\"A\"))"
   ]
  },
  {
   "cell_type": "markdown",
   "metadata": {},
   "source": [
    "# Exercício \n"
   ]
  },
  {
   "cell_type": "markdown",
   "metadata": {},
   "source": [
    "    Crie uma panilha de mercado onde serão organizados os produtos por numeração e o nome onde:\n",
    "\n",
    "    1. Limpeza\n",
    "    2. Vegetais\n",
    "    3. Cereais \n",
    "    4. Bebidas\n",
    "    5. Padaria\n",
    "    6. Latícinios\n",
    "    7. Açogue\n",
    "    8. Hortaliças\n",
    "    9. Bebidas Alcólicas\n",
    "    \n",
    "    Aplique uma tabela Hash para montar o mercadinho"
   ]
  }
 ],
 "metadata": {
  "kernelspec": {
   "display_name": "Python 3",
   "language": "python",
   "name": "python3"
  },
  "language_info": {
   "codemirror_mode": {
    "name": "ipython",
    "version": 3
   },
   "file_extension": ".py",
   "mimetype": "text/x-python",
   "name": "python",
   "nbconvert_exporter": "python",
   "pygments_lexer": "ipython3",
   "version": "3.12.2"
  }
 },
 "nbformat": 4,
 "nbformat_minor": 2
}
