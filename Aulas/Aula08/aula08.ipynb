{
 "cells": [
  {
   "cell_type": "markdown",
   "metadata": {},
   "source": [
    "# Aula08 - Introdução a Estrutura de Dados"
   ]
  },
  {
   "cell_type": "markdown",
   "metadata": {},
   "source": [
    "## Fila (FIFO)"
   ]
  },
  {
   "cell_type": "markdown",
   "metadata": {},
   "source": [
    "> Classes são utilizadas em programação orientada a objetos, com as classes podemos criar atributos para objetos. Para criar uma classe basta criar um função class com o nome do objeto, dentro da função class se adiciona um dos métodos para criar atributos ao objeto, init é um desses, dentro do init criamos o parâmetro base que é o self e outros parâmetros de atributo."
   ]
  },
  {
   "cell_type": "code",
   "execution_count": 162,
   "metadata": {},
   "outputs": [],
   "source": [
    "#Classe sempre recebe o nome com a primeira letra maíuscula\n",
    "class Fila:\n",
    "    def __init__(self):\n",
    "        #Atributo 'fila' é uma lista vazia\n",
    "        self.fila =[]\n",
    "    \n",
    "    def enfileirar(self, item):\n",
    "        # #Adiciona o 'item' como atributo do 'fila'\n",
    "        self.fila.append(item)\n",
    "        print(f'{item} chegou no caixa')\n",
    "    \n",
    "    def vazio(self):\n",
    "        #Retorno True se o comprimento da lista for vazio e False caso acontrário\n",
    "        return len(self.fila) == 0\n",
    "    \n",
    "    def desinfileirar(self):\n",
    "        if not self.vazio():\n",
    "            #Remove com o método pop, o primeiro item da lista 'fila'\n",
    "            item = self.fila.pop(0)\n",
    "            print(f'{item} foi atendido no caixa')\n",
    "            return item\n",
    "        else:\n",
    "            print('A fila está vazia')\n",
    "            return None\n",
    "        \n",
    "    def tamanho(self):\n",
    "        if len(self.fila)==0:\n",
    "            print('O caixa está livre')\n",
    "        else:\n",
    "            print(f'Há somente {len(self.fila)} pessoas na fila')\n"
   ]
  },
  {
   "cell_type": "markdown",
   "metadata": {},
   "source": [
    "## Atividade 1"
   ]
  },
  {
   "cell_type": "markdown",
   "metadata": {},
   "source": [
    "> Joãzinho está no mercado entre Vó Maria e Caique que chegou logo atrás para ir ao caixa. Tendo como fila à estrutura de dados. Adicione os três a essa fila nessa ordem e atenda a Vó Maria, e depois mostre o tamanho da dela"
   ]
  },
  {
   "cell_type": "code",
   "execution_count": 163,
   "metadata": {},
   "outputs": [
    {
     "name": "stdout",
     "output_type": "stream",
     "text": [
      "Vó Maria chegou no caixa\n",
      "Caique chegou no caixa\n",
      "Joãozinho chegou no caixa\n",
      "Vó Maria foi atendido no caixa\n",
      "Há somente 2 pessoas na fila\n"
     ]
    }
   ],
   "source": [
    "fila = Fila()\n",
    "fila.enfileirar('Vó Maria')\n",
    "fila.enfileirar('Caique')\n",
    "fila.enfileirar('Joãozinho')\n",
    "fila.desinfileirar()\n",
    "fila.tamanho()"
   ]
  },
  {
   "cell_type": "code",
   "execution_count": 164,
   "metadata": {},
   "outputs": [
    {
     "name": "stdout",
     "output_type": "stream",
     "text": [
      "Vó Maria chegou no caixa\n",
      "Vó Maria foi atendido no caixa\n",
      "O caixa está livre\n"
     ]
    }
   ],
   "source": [
    "fila = Fila()\n",
    "fila.enfileirar('Vó Maria')\n",
    "fila.desinfileirar()\n",
    "fila.tamanho()"
   ]
  },
  {
   "cell_type": "markdown",
   "metadata": {},
   "source": [
    "# FIFO utilizando Collections deque"
   ]
  },
  {
   "cell_type": "code",
   "execution_count": 165,
   "metadata": {},
   "outputs": [],
   "source": [
    "from collections import deque\n",
    "\n",
    "class Farmacia:\n",
    "    def __init__(self):\n",
    "        self.farmacia = deque()\n",
    "\n",
    "    def aguardar(self, nome):\n",
    "        self.farmacia.append(nome)\n",
    "\n",
    "    def vazio(self):\n",
    "        return len(self.farmacia) == 0\n",
    "    \n",
    "    def atender(self):\n",
    "        if not self.vazio():\n",
    "            nome = self.farmacia.popleft()\n",
    "            print(f'{nome} foi atendido(a)')\n",
    "        else:\n",
    "            print('O(A) atendente está livre')\n",
    "    \n",
    "    def tamanho(self):\n",
    "        if len(self.farmacia) == 0:\n",
    "            print('A fila está vazia')\n",
    "        else:\n",
    "            print(f'Tem {len(self.farmacia)} pessoa na fila')"
   ]
  },
  {
   "cell_type": "markdown",
   "metadata": {},
   "source": [
    "# Atividade 2"
   ]
  },
  {
   "cell_type": "code",
   "execution_count": 166,
   "metadata": {},
   "outputs": [
    {
     "name": "stdout",
     "output_type": "stream",
     "text": [
      "Elza foi atendido(a)\n",
      "A fila está vazia\n"
     ]
    }
   ],
   "source": [
    "farmacia = Farmacia()\n",
    "farmacia.aguardar('Elza')\n",
    "farmacia.atender()\n",
    "farmacia.tamanho()"
   ]
  },
  {
   "cell_type": "markdown",
   "metadata": {},
   "source": [
    "# Pilha (LIFO)"
   ]
  },
  {
   "cell_type": "code",
   "execution_count": 167,
   "metadata": {},
   "outputs": [],
   "source": [
    "class Editor:\n",
    "    def __init__(self):\n",
    "        self.texto = ''\n",
    "        self.historico = []\n",
    "\n",
    "    def escrever(self, texto):\n",
    "        self.historico.append(self.texto)\n",
    "        self.texto += texto\n",
    "    \n",
    "    def desfazer(self):\n",
    "        if self.historico:\n",
    "            #Remove com o método pop, o último item da lista 'fila'\n",
    "            self.texto = self.historico.pop()\n",
    "        else:\n",
    "            self.texto = ''\n",
    "    \n",
    "    def visualizar(self):\n",
    "        print(self.texto)"
   ]
  },
  {
   "cell_type": "markdown",
   "metadata": {},
   "source": [
    "# Atividade 3"
   ]
  },
  {
   "cell_type": "markdown",
   "metadata": {},
   "source": [
    "> Em um editor Yago escreve primeiro 'Ola', depois 'mundo!' e por último 'Por:' e 'Yago'. Faça um algoritmo que realize o passo-a-passo de Yago e visualize o resultado"
   ]
  },
  {
   "cell_type": "code",
   "execution_count": 168,
   "metadata": {},
   "outputs": [
    {
     "name": "stdout",
     "output_type": "stream",
     "text": [
      "Olá mundo! Por: Yago\n"
     ]
    }
   ],
   "source": [
    "editor = Editor()\n",
    "editor.escrever('Olá')\n",
    "editor.escrever(' mundo!')\n",
    "editor.escrever(' Por:')\n",
    "editor.escrever(' Yago')\n",
    "editor.visualizar()"
   ]
  }
 ],
 "metadata": {
  "kernelspec": {
   "display_name": "Python 3",
   "language": "python",
   "name": "python3"
  },
  "language_info": {
   "codemirror_mode": {
    "name": "ipython",
    "version": 3
   },
   "file_extension": ".py",
   "mimetype": "text/x-python",
   "name": "python",
   "nbconvert_exporter": "python",
   "pygments_lexer": "ipython3",
   "version": "3.12.2"
  }
 },
 "nbformat": 4,
 "nbformat_minor": 2
}
