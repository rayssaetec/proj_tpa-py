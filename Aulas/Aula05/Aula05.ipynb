{
 "cells": [
  {
   "cell_type": "markdown",
   "metadata": {},
   "source": [
    "## Aula 05 - Introdução ao list comprehension e format"
   ]
  },
  {
   "cell_type": "markdown",
   "metadata": {},
   "source": [
    "Nessa aula iremos dar introdução ao list compression, uma forma mais simples de realizar conversões de valores entra duas ou mais listas. Atualmente é uma das formas mais rápidas de aplicar conversões, substituindo as declarações mais extensas do que o método convencional, lambda e o map"
   ]
  },
  {
   "cell_type": "markdown",
   "metadata": {},
   "source": [
    "## Exemplo 1 - Conversão de Celcius para Fahrenheit"
   ]
  },
  {
   "cell_type": "code",
   "execution_count": 107,
   "metadata": {},
   "outputs": [
    {
     "name": "stdout",
     "output_type": "stream",
     "text": [
      "10      50.0  \n",
      "20      68.0  \n",
      "24      75.2  \n",
      "35      95.0  \n",
      "50      122.0 \n"
     ]
    }
   ],
   "source": [
    "celcius = [10, 20, 24, 35, 50]\n",
    "fahrenheit = [round(x*1.8+32,2) for x in celcius]\n",
    "\n",
    "x = 0\n",
    "while(x<len(celcius)):\n",
    "    print(\"{:<8}{:<6}\".format(celcius[x], fahrenheit[x]))\n",
    "    x += 1"
   ]
  },
  {
   "cell_type": "markdown",
   "metadata": {},
   "source": [
    "## Exemplo 2 - Conversão de Kmh para Mph"
   ]
  },
  {
   "cell_type": "code",
   "execution_count": 108,
   "metadata": {},
   "outputs": [
    {
     "name": "stdout",
     "output_type": "stream",
     "text": [
      "100   62.11 \n",
      "25    15.53 \n",
      "70    43.48 \n",
      "80    49.69 \n",
      "180   111.8 \n"
     ]
    }
   ],
   "source": [
    "kmh = [100, 25, 70, 80, 180]\n",
    "mph = [round(x/1.61,2) for x in kmh]\n",
    "\n",
    "x = 0 \n",
    "while(x<len(kmh)):\n",
    "    print(\"{:<6}{:<6}\".format(kmh[x], mph[x]))\n",
    "    x += 1"
   ]
  },
  {
   "cell_type": "code",
   "execution_count": 109,
   "metadata": {},
   "outputs": [],
   "source": [
    "celcius = [100,20,24,35,50]\n",
    "fahrenheit = [round(x*1.8+32,2) for x in celcius] "
   ]
  },
  {
   "cell_type": "markdown",
   "metadata": {},
   "source": [
    "## Exercício 1"
   ]
  },
  {
   "cell_type": "markdown",
   "metadata": {},
   "source": [
    "Crie uma lista com 10 valores em metros. Crie uma tabela de conversão para polegadas, pés, jardas e milhas marítimas, listando o número da linha e o cabeçalho da tabela."
   ]
  },
  {
   "cell_type": "code",
   "execution_count": 114,
   "metadata": {},
   "outputs": [
    {
     "name": "stdout",
     "output_type": "stream",
     "text": [
      "Número         Metros         Polegadas      Pés            Jardas         Milhas Marítimas\n",
      "===========================================================================================\n",
      "1              100            3937.0         328.1          109.4          185200\n",
      "2              90             3543.3         295.29         98.46          166680\n",
      "3              80             3149.6         262.48         87.52          148160\n",
      "4              70             2755.9         229.67         76.58          129640\n",
      "5              60             2362.2         196.86         65.64          111120\n",
      "6              50             1968.5         164.05         54.7           92600\n",
      "7              40             1574.8         131.24         43.76          74080\n",
      "8              20             787.4          65.62          21.88          37040\n",
      "9              10             393.7          32.81          10.94          18520\n",
      "10             1              39.37          3.28           1.09           1852\n"
     ]
    }
   ],
   "source": [
    "metros = [100, 90, 80, 70, 60, 50, 40, 20, 10, 1]\n",
    "polegadas = [round(x*39.37, 2) for x in metros] \n",
    "pes = [round(x*3.281, 2) for x in metros] \n",
    "jardas = [round(x*1.094, 2) for x in metros] \n",
    "milhas_maritimas = [round(x*1852) for x in metros] \n",
    "\n",
    "x = 0\n",
    "y = 0\n",
    "print(\"{:<15}{:<15}{:<15}{:<15}{:<15}{}\".format(\"Número\", \"Metros\", \"Polegadas\", \"Pés\", \"Jardas\", \"Milhas Marítimas\"))\n",
    "print(\"===========================================================================================\")\n",
    "while(x<len(metros)):\n",
    "    y += 1\n",
    "    print(\"{:<15}{:<15}{:<15}{:<15}{:<15}{}\".format(y, metros[x], polegadas[x], pes[x], jardas[x], milhas_maritimas[x]))\n",
    "    x += 1\n"
   ]
  },
  {
   "cell_type": "markdown",
   "metadata": {},
   "source": [
    "## Exercício 2"
   ]
  },
  {
   "cell_type": "markdown",
   "metadata": {},
   "source": [
    "Crie uma lista com 10 valores em Kelvin. Crie uma tabela de conversão para celcius e fahrenheit, listando o número da linha e o cabeçalho da tabela."
   ]
  },
  {
   "cell_type": "code",
   "execution_count": 112,
   "metadata": {},
   "outputs": [
    {
     "name": "stdout",
     "output_type": "stream",
     "text": [
      "Número         Kelvin         Celcius        Fahrenheit\n",
      "=======================================================\n",
      "1              430            157            314.33\n",
      "2              400            127            260.33\n",
      "3              330            57             134.33\n",
      "4              300            27             80.33\n",
      "5              230            -43            -45.67\n",
      "6              200            -73            -99.67\n",
      "7              130            -143           -225.67\n",
      "8              100            -173           -279.67\n",
      "9              90             -183           -297.67\n",
      "10             30             -243           -405.67\n"
     ]
    }
   ],
   "source": [
    "kelvin = [430, 400, 330, 300, 230, 200, 130, 100, 90, 30]\n",
    "celcius = [round(x - 273,2) for x in kelvin] \n",
    "fahrenheit = [round(x*1.8 - 459.67,2) for x in kelvin] \n",
    "\n",
    "x = 0\n",
    "y = 0\n",
    "print(\"{:<15}{:<15}{:<15}{}\".format(\"Número\", \"Kelvin\", \"Celcius\", \"Fahrenheit\"))\n",
    "print(\"=======================================================\")\n",
    "while(x<len(metros)):\n",
    "    y += 1\n",
    "    print(\"{:<15}{:<15}{:<15}{}\".format(y, kelvin[x], celcius[x], fahrenheit[x]))\n",
    "    x += 1"
   ]
  },
  {
   "cell_type": "markdown",
   "metadata": {},
   "source": [
    "## Exercício 3"
   ]
  },
  {
   "cell_type": "markdown",
   "metadata": {},
   "source": [
    "Crie uma lista com 10 pesos em kilos. Faça a conversão para o peso na Terra, Lua, Júpiter, Saturno e Mercúrio. Monte uma tabela com o cabeçalho e a numeração conforme os exercício passados."
   ]
  },
  {
   "cell_type": "code",
   "execution_count": 113,
   "metadata": {},
   "outputs": [
    {
     "name": "stdout",
     "output_type": "stream",
     "text": [
      "Número         Terra          Lua            Júpiter        Saturno        Mercúrio\n",
      "===================================================================================\n",
      "1              980.0          160            264            115            37\n",
      "2              882.0          144            238            103            33\n",
      "3              784.0          128            211            92             30\n",
      "4              686.0          112            185            80             26\n",
      "5              588.0          96             158            69             22\n",
      "6              490.0          80             132            57             18\n",
      "7              392.0          64             106            46             15\n",
      "8              294.0          48             79             34             11\n",
      "9              196.0          32             53             23             7\n",
      "10             98.0           16             26             12             4\n"
     ]
    }
   ],
   "source": [
    "quilos = [100, 90, 80, 70, 60, 50, 40, 30, 20, 10]\n",
    "terra = [round(x*9.8, 2) for x in quilos]\n",
    "lua = [round(x*1.6) for x in quilos]\n",
    "jupiter = [round(x*2.64) for x in quilos]\n",
    "saturno = [round(x*1.15) for x in quilos]\n",
    "mercurio = [round(x*0.37) for x in quilos]\n",
    "\n",
    "x = 0\n",
    "y = 0\n",
    "print(\"{:<15}{:<15}{:<15}{:<15}{:<15}{}\".format(\"Número\", \"Terra\", \"Lua\", \"Júpiter\", \"Saturno\", \"Mercúrio\"))\n",
    "print(\"===================================================================================\")\n",
    "while(x<len(metros)):\n",
    "    y += 1\n",
    "    print(\"{:<15}{:<15}{:<15}{:<15}{:<15}{}\".format(y, terra[x], lua[x], jupiter[x], saturno[x], mercurio[x]))\n",
    "    x += 1"
   ]
  }
 ],
 "metadata": {
  "kernelspec": {
   "display_name": "Python 3",
   "language": "python",
   "name": "python3"
  },
  "language_info": {
   "codemirror_mode": {
    "name": "ipython",
    "version": 3
   },
   "file_extension": ".py",
   "mimetype": "text/x-python",
   "name": "python",
   "nbconvert_exporter": "python",
   "pygments_lexer": "ipython3",
   "version": "3.12.4"
  }
 },
 "nbformat": 4,
 "nbformat_minor": 2
}
