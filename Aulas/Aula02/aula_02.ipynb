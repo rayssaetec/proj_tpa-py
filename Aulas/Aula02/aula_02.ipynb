{
 "cells": [
  {
   "cell_type": "markdown",
   "metadata": {},
   "source": [
    "# Aula 02 - Se composto e Introdução a Estruturas de Repetição"
   ]
  },
  {
   "cell_type": "markdown",
   "metadata": {},
   "source": [
    "## Parte 1 - Se composto"
   ]
  },
  {
   "cell_type": "markdown",
   "metadata": {},
   "source": [
    "## Parte 1 - Se composto"
   ]
  },
  {
   "cell_type": "markdown",
   "metadata": {},
   "source": [
    "### Porta AND"
   ]
  },
  {
   "cell_type": "code",
   "execution_count": 18,
   "metadata": {},
   "outputs": [
    {
     "name": "stdout",
     "output_type": "stream",
     "text": [
      "Reprovado\n"
     ]
    }
   ],
   "source": [
    "idade = 16\n",
    "carteira = 50000\n",
    "\n",
    "if (idade>=18 and carteira>=50000):\n",
    "    print(\"Aprovado\")\n",
    "else:\n",
    "    print(\"Reprovado\")"
   ]
  },
  {
   "cell_type": "markdown",
   "metadata": {},
   "source": [
    "### Porta OR"
   ]
  },
  {
   "cell_type": "code",
   "execution_count": 19,
   "metadata": {},
   "outputs": [
    {
     "name": "stdout",
     "output_type": "stream",
     "text": [
      "Aprovado\n"
     ]
    }
   ],
   "source": [
    "idade = 16\n",
    "carteira = 50000\n",
    "\n",
    "if (idade>=18 or carteira>=50000):\n",
    "    print(\"Aprovado\")\n",
    "else:\n",
    "    print(\"Reprovado\")"
   ]
  },
  {
   "cell_type": "markdown",
   "metadata": {},
   "source": [
    "## Parte 2 - Introdução a Laços de Repetição"
   ]
  },
  {
   "cell_type": "markdown",
   "metadata": {},
   "source": [
    "Enquanto"
   ]
  },
  {
   "cell_type": "markdown",
   "metadata": {},
   "source": [
    "### Contagem Progressiva"
   ]
  },
  {
   "cell_type": "code",
   "execution_count": 20,
   "metadata": {},
   "outputs": [
    {
     "name": "stdout",
     "output_type": "stream",
     "text": [
      "0\n",
      "1\n",
      "2\n",
      "3\n",
      "4\n",
      "5\n",
      "6\n",
      "7\n",
      "8\n",
      "9\n",
      "10\n"
     ]
    }
   ],
   "source": [
    "x = 0\n",
    "\n",
    "while (x<=10):\n",
    "    print(x)\n",
    "    x = x+1"
   ]
  },
  {
   "cell_type": "markdown",
   "metadata": {},
   "source": [
    "(obs: x = x+1 pode ser: x+=1)"
   ]
  },
  {
   "cell_type": "markdown",
   "metadata": {},
   "source": [
    "### Contagem Regressiva"
   ]
  },
  {
   "cell_type": "code",
   "execution_count": 21,
   "metadata": {},
   "outputs": [
    {
     "name": "stdout",
     "output_type": "stream",
     "text": [
      "10\n",
      "9\n",
      "8\n",
      "7\n",
      "6\n",
      "5\n",
      "4\n",
      "3\n",
      "2\n",
      "1\n"
     ]
    }
   ],
   "source": [
    "x = 10\n",
    "while (x>=1):\n",
    "    print(x)\n",
    "    x-=1"
   ]
  },
  {
   "cell_type": "markdown",
   "metadata": {},
   "source": [
    "Listas são ordenadas, possui indexação, cada elemento possui um índice, são mutáveis, podendo ser alteradas e são criadas por colchetes [].\n",
    "\n",
    "[\"gustavo\",\"lucas\",\"pedro\"]\n",
    "\n",
    "Tuplas são ordenadas, possui indexação, cada elemento possui um índice, são imutáveis,não podendo ser alteradas e são criadas por parênteses ().\n",
    "\n",
    "(\"gustavo\",\"lucas\",\"pedro\")\n",
    "\n",
    "Dicionários não são ordenados, sem índice, são mutáveis, há chaves e valores nas chaves, são criadas por chaves {}\n",
    "e nelas há ; e =.\n",
    "\n",
    "{1;\"Gustavo\" , 2;\"lucas\", 3;\"pedro\"}"
   ]
  },
  {
   "cell_type": "markdown",
   "metadata": {},
   "source": [
    "### Listas"
   ]
  },
  {
   "cell_type": "code",
   "execution_count": 30,
   "metadata": {},
   "outputs": [
    {
     "name": "stdout",
     "output_type": "stream",
     "text": [
      "['gustavo', 'pedro', 'lucas']\n",
      "gustavo\n"
     ]
    }
   ],
   "source": [
    "alunos = [\"gustavo\",\"pedro\",\"lucas\"]\n",
    "print(alunos)\n",
    "print(alunos [0])"
   ]
  },
  {
   "cell_type": "markdown",
   "metadata": {},
   "source": [
    "### While com Listas"
   ]
  },
  {
   "cell_type": "code",
   "execution_count": 31,
   "metadata": {},
   "outputs": [
    {
     "name": "stdout",
     "output_type": "stream",
     "text": [
      "gustavo\n",
      "pedro\n",
      "lucas\n"
     ]
    }
   ],
   "source": [
    "x = 0\n",
    "while(x<=2):\n",
    "    print(alunos[x])\n",
    "    x+=1"
   ]
  },
  {
   "cell_type": "code",
   "execution_count": 32,
   "metadata": {},
   "outputs": [
    {
     "name": "stdout",
     "output_type": "stream",
     "text": [
      "lucas\n",
      "pedro\n",
      "gustavo\n"
     ]
    }
   ],
   "source": [
    "x=2\n",
    "while(x>=0):\n",
    "    print (alunos[x])\n",
    "    x-=1\n",
    "\n"
   ]
  },
  {
   "cell_type": "markdown",
   "metadata": {},
   "source": [
    "### Parte 3 - Introdução ao Laço For"
   ]
  },
  {
   "cell_type": "markdown",
   "metadata": {},
   "source": [
    "Percorrer uma Lista"
   ]
  },
  {
   "cell_type": "code",
   "execution_count": 33,
   "metadata": {},
   "outputs": [
    {
     "name": "stdout",
     "output_type": "stream",
     "text": [
      "gustavo\n",
      "pedro\n",
      "lucas\n"
     ]
    }
   ],
   "source": [
    "for x in alunos:\n",
    "    print(x)"
   ]
  },
  {
   "cell_type": "markdown",
   "metadata": {},
   "source": [
    "Contagem até 10"
   ]
  },
  {
   "cell_type": "code",
   "execution_count": 34,
   "metadata": {},
   "outputs": [
    {
     "name": "stdout",
     "output_type": "stream",
     "text": [
      "0\n",
      "1\n",
      "2\n",
      "3\n",
      "4\n",
      "5\n",
      "6\n",
      "7\n",
      "8\n",
      "9\n"
     ]
    }
   ],
   "source": [
    "for x in range(10):\n",
    "    print(x)"
   ]
  },
  {
   "cell_type": "markdown",
   "metadata": {},
   "source": [
    "### Exercício"
   ]
  },
  {
   "cell_type": "markdown",
   "metadata": {},
   "source": [
    "<p>Liste 10 frutas, legumes ou verduras que Pedrinho fez no verdurão.\n",
    "Utilize os laços for ou while deixando-os da segunte forma:</p>\n",
    "<ul>\n",
    "<li>1 - abacaxi</li>\n",
    "<li>2 - alface</li>\n",
    "<li>3 - tomate</li>\n",
    "</ul>"
   ]
  },
  {
   "cell_type": "code",
   "execution_count": 42,
   "metadata": {},
   "outputs": [
    {
     "name": "stdout",
     "output_type": "stream",
     "text": [
      "1 - abacaxi\n",
      "2 - alface\n",
      "3 - tomate\n",
      "4 - morango\n",
      "5 - Melancia\n",
      "6 - Batata\n",
      "7 - couve\n",
      "8 - banana\n",
      "9 - mexirica\n",
      "10 - maçã\n"
     ]
    }
   ],
   "source": [
    "n = 1\n",
    "fvl = [\"abacaxi\", \"alface\", \"tomate\", \"morango\", \"Melancia\", \"Batata\", \"couve\", \"banana\", \"mexirica\", \"maçã\"]\n",
    "for x in fvl:\n",
    "    print(n ,\"-\", x)\n",
    "    n += 1"
   ]
  }
 ],
 "metadata": {
  "kernelspec": {
   "display_name": "Python 3",
   "language": "python",
   "name": "python3"
  },
  "language_info": {
   "codemirror_mode": {
    "name": "ipython",
    "version": 3
   },
   "file_extension": ".py",
   "mimetype": "text/x-python",
   "name": "python",
   "nbconvert_exporter": "python",
   "pygments_lexer": "ipython3",
   "version": "3.12.2"
  }
 },
 "nbformat": 4,
 "nbformat_minor": 2
}
