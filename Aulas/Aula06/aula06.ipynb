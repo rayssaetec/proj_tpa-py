{
 "cells": [
  {
   "cell_type": "markdown",
   "metadata": {},
   "source": [
    "# Introdução a Tuplas e Dicionários"
   ]
  },
  {
   "cell_type": "markdown",
   "metadata": {},
   "source": [
    "## Introdução a Tuplas"
   ]
  },
  {
   "cell_type": "code",
   "execution_count": 60,
   "metadata": {},
   "outputs": [
    {
     "data": {
      "text/plain": [
       "8"
      ]
     },
     "execution_count": 60,
     "metadata": {},
     "output_type": "execute_result"
    }
   ],
   "source": [
    "tupla = (6,8,9)\n",
    "tupla[1]"
   ]
  },
  {
   "cell_type": "markdown",
   "metadata": {},
   "source": [
    "## Introdução a dicionários"
   ]
  },
  {
   "cell_type": "code",
   "execution_count": 7,
   "metadata": {},
   "outputs": [
    {
     "name": "stdout",
     "output_type": "stream",
     "text": [
      "Desenvolvimento de Sistemas\n",
      "2024\n",
      "Técnicas de Programação e Algoritmos\n",
      "Gustavo\n"
     ]
    }
   ],
   "source": [
    "dicionario = {\n",
    "    'curso':'Desenvolvimento de Sistemas',\n",
    "    'ano': 2024,\n",
    "    'modulo': 'Técnicas de Programação e Algoritmos',\n",
    "    'professor': 'Gustavo'\n",
    "}\n",
    "\n",
    "print(dicionario['curso'])\n",
    "print(dicionario['ano'])\n",
    "print(dicionario['modulo'])\n",
    "print(dicionario['professor'])"
   ]
  },
  {
   "cell_type": "code",
   "execution_count": 14,
   "metadata": {},
   "outputs": [
    {
     "name": "stdout",
     "output_type": "stream",
     "text": [
      "9.5\n"
     ]
    }
   ],
   "source": [
    "dicionario['nota'] = 9.5\n",
    "print(dicionario['nota'])"
   ]
  },
  {
   "cell_type": "code",
   "execution_count": 56,
   "metadata": {},
   "outputs": [
    {
     "name": "stdout",
     "output_type": "stream",
     "text": [
      "Desenvolvimento de Sistemas\n",
      "2024\n",
      "Técnicas de Programação e Algoritmos\n",
      "Gustavo\n",
      "9.5\n",
      "\n",
      "\n",
      "curso\n",
      "ano\n",
      "modulo\n",
      "professor\n",
      "nota\n"
     ]
    }
   ],
   "source": [
    "for i in dicionario.values():\n",
    "    print(i)\n",
    "print(\"\\n\")\n",
    "\n",
    "for i in dicionario.keys():\n",
    "    print(i)"
   ]
  },
  {
   "cell_type": "code",
   "execution_count": 52,
   "metadata": {},
   "outputs": [
    {
     "name": "stdout",
     "output_type": "stream",
     "text": [
      "<built-in method keys of dict object at 0x0000019A9AABC680>\n",
      "<built-in method values of dict object at 0x0000019A9AABC680>\n"
     ]
    }
   ],
   "source": [
    "print(dicionario.keys())\n",
    "print(dicionario.values())"
   ]
  },
  {
   "cell_type": "code",
   "execution_count": null,
   "metadata": {},
   "outputs": [],
   "source": [
    "dicionario.clear()\n",
    "print(dicionario)"
   ]
  },
  {
   "cell_type": "markdown",
   "metadata": {},
   "source": [
    "## Exercício 1"
   ]
  },
  {
   "cell_type": "markdown",
   "metadata": {},
   "source": [
    "> Crie 3 dicionários: Matricula, Aluno e Disciplina. A matricula terá código da matricula, data_inscrição e curso; O aluno terá registro e nome; A disciplina terá registro e professor. Ao final adicione os três dicionários em uma tupla chamada escola"
   ]
  },
  {
   "cell_type": "code",
   "execution_count": 70,
   "metadata": {},
   "outputs": [
    {
     "name": "stdout",
     "output_type": "stream",
     "text": [
      "{'codigo': 8778, 'data_inscrição': '13/08/2023', 'curso': 'DS'}\n",
      "{'registro': 925, 'nome': 'Rayssa'}\n",
      "{'registro': 862, 'nome': 'TPA', 'professor': 'Gustavo'}\n"
     ]
    }
   ],
   "source": [
    "matricula = {\n",
    "    'codigo': 8778,\n",
    "    'data_inscrição': '13/08/2023',\n",
    "    'curso': 'DS'\n",
    "}\n",
    "aluno = {\n",
    "    'registro': 925,\n",
    "    'nome': 'Rayssa'\n",
    "}\n",
    "disciplina = {\n",
    "    'registro': 862,\n",
    "    'nome': 'TPA',\n",
    "    'professor': 'Gustavo'\n",
    "}\n",
    "escola = (matricula, aluno, disciplina)\n",
    "\n",
    "for x in escola:\n",
    "    print(x)"
   ]
  },
  {
   "cell_type": "markdown",
   "metadata": {},
   "source": [
    "## Exercício 2"
   ]
  },
  {
   "cell_type": "markdown",
   "metadata": {},
   "source": [
    "> Crie três dicionários para as seguintes tabelas: vendedor, produto e venda. O vendedor terá registro, nome e admissão; o produo terá o ID, nome, fabricante; A venda terá reg_vendedor, id_produto e valor. Após a criação dos dicionários, adicione a uma tupla chamada casas_baiano."
   ]
  },
  {
   "cell_type": "code",
   "execution_count": 74,
   "metadata": {},
   "outputs": [
    {
     "name": "stdout",
     "output_type": "stream",
     "text": [
      "{'registro': 323, 'nome': 'Rayssa', 'admissão': '12/12/2024'}\n",
      "{'ID': 54, 'nome': 'Rayssa', 'fabricante': 'etec'}\n",
      "{'reg_vendedor': 'zhdju', 'id_produto': 32, 'valor': 43}\n"
     ]
    }
   ],
   "source": [
    "vendedor = {\n",
    "    'registro': 323,\n",
    "    'nome': 'Rayssa',\n",
    "    'admissão': '12/12/2024'\n",
    "}\n",
    "produto = {\n",
    "    'ID': 54,\n",
    "    'nome': 'Rayssa',\n",
    "    'fabricante': 'etec'\n",
    "}\n",
    "venda = {\n",
    "    'reg_vendedor': 'zhdju',\n",
    "    'id_produto': 32,\n",
    "    'valor': 43\n",
    "}\n",
    "casas_baiano = (vendedor, produto, venda)\n",
    "for x in casas_baiano:\n",
    "    print(x)"
   ]
  }
 ],
 "metadata": {
  "kernelspec": {
   "display_name": "Python 3",
   "language": "python",
   "name": "python3"
  },
  "language_info": {
   "codemirror_mode": {
    "name": "ipython",
    "version": 3
   },
   "file_extension": ".py",
   "mimetype": "text/x-python",
   "name": "python",
   "nbconvert_exporter": "python",
   "pygments_lexer": "ipython3",
   "version": "3.12.2"
  }
 },
 "nbformat": 4,
 "nbformat_minor": 2
}
