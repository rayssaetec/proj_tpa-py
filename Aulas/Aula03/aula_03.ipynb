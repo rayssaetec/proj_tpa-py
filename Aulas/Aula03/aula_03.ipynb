{
 "cells": [
  {
   "cell_type": "markdown",
   "metadata": {},
   "source": [
    "## Aula 03 - Manipulação de dados com Python\n"
   ]
  },
  {
   "cell_type": "markdown",
   "metadata": {},
   "source": [
    "### Revisão das últimas aulas"
   ]
  },
  {
   "cell_type": "markdown",
   "metadata": {},
   "source": [
    "Nas últimas aulas aprendemos sobre estrutura de decisão e laços de repetição com Python. Vamos relembrar."
   ]
  },
  {
   "cell_type": "markdown",
   "metadata": {},
   "source": [
    "### Estruturas de decisão"
   ]
  },
  {
   "cell_type": "code",
   "execution_count": 2,
   "metadata": {},
   "outputs": [
    {
     "name": "stdout",
     "output_type": "stream",
     "text": [
      "Aprovado\n"
     ]
    }
   ],
   "source": [
    "b1 = 10\n",
    "b2 = 5 \n",
    "b3 = 9\n",
    "b4 = 7\n",
    "media = (b1+b2+b3+b4)/4\n",
    "if media>=7:\n",
    "    print(\"Aprovado\")\n",
    "elif media>=5:\n",
    "    print(\"Recuperação\")\n",
    "else:\n",
    "    print(\"Reprovado\")"
   ]
  },
  {
   "cell_type": "code",
   "execution_count": 8,
   "metadata": {},
   "outputs": [
    {
     "name": "stdout",
     "output_type": "stream",
     "text": [
      "Reprovado\n"
     ]
    }
   ],
   "source": [
    "b = [2,5,3,7]\n",
    "x = 0\n",
    "for y in b:\n",
    "    x += y\n",
    "x /= 4\n",
    "if x>=7: \n",
    "    print(\"Aprovado\")\n",
    "elif x>=5: \n",
    "    print(\"Recuperação\")\n",
    "else:\n",
    "    print(\"Reprovado\")"
   ]
  }
 ],
 "metadata": {
  "kernelspec": {
   "display_name": "Python 3",
   "language": "python",
   "name": "python3"
  },
  "language_info": {
   "codemirror_mode": {
    "name": "ipython",
    "version": 3
   },
   "file_extension": ".py",
   "mimetype": "text/x-python",
   "name": "python",
   "nbconvert_exporter": "python",
   "pygments_lexer": "ipython3",
   "version": "3.12.2"
  }
 },
 "nbformat": 4,
 "nbformat_minor": 2
}
